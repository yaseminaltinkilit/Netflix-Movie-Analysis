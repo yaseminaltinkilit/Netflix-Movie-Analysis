{
 "cells": [
  {
   "cell_type": "code",
   "execution_count": 1,
   "id": "5a41d33a",
   "metadata": {
    "_cell_guid": "b1076dfc-b9ad-4769-8c92-a6c4dae69d19",
    "_uuid": "8f2839f25d086af736a60e9eeb907d3b93b6e0e5",
    "execution": {
     "iopub.execute_input": "2022-07-27T08:57:49.714587Z",
     "iopub.status.busy": "2022-07-27T08:57:49.713701Z",
     "iopub.status.idle": "2022-07-27T08:57:49.735966Z",
     "shell.execute_reply": "2022-07-27T08:57:49.734266Z"
    },
    "papermill": {
     "duration": 0.038705,
     "end_time": "2022-07-27T08:57:49.738792",
     "exception": false,
     "start_time": "2022-07-27T08:57:49.700087",
     "status": "completed"
    },
    "tags": []
   },
   "outputs": [
    {
     "name": "stdout",
     "output_type": "stream",
     "text": [
      "/kaggle/input/netflix-original-films-imdb-scores/NetflixOriginals.csv\n"
     ]
    }
   ],
   "source": [
    "# This Python 3 environment comes with many helpful analytics libraries installed\n",
    "# It is defined by the kaggle/python Docker image: https://github.com/kaggle/docker-python\n",
    "# For example, here's several helpful packages to load\n",
    "\n",
    "import numpy as np # linear algebra\n",
    "import pandas as pd # data processing, CSV file I/O (e.g. pd.read_csv)\n",
    "\n",
    "# Input data files are available in the read-only \"../input/\" directory\n",
    "# For example, running this (by clicking run or pressing Shift+Enter) will list all files under the input directory\n",
    "\n",
    "import os\n",
    "for dirname, _, filenames in os.walk('/kaggle/input'):\n",
    "    for filename in filenames:\n",
    "        print(os.path.join(dirname, filename))\n",
    "\n",
    "# You can write up to 20GB to the current directory (/kaggle/working/) that gets preserved as output when you create a version using \"Save & Run All\" \n",
    "# You can also write temporary files to /kaggle/temp/, but they won't be saved outside of the current session"
   ]
  },
  {
   "cell_type": "code",
   "execution_count": 2,
   "id": "29ab4bca",
   "metadata": {
    "execution": {
     "iopub.execute_input": "2022-07-27T08:57:49.762501Z",
     "iopub.status.busy": "2022-07-27T08:57:49.762068Z",
     "iopub.status.idle": "2022-07-27T08:57:49.778581Z",
     "shell.execute_reply": "2022-07-27T08:57:49.777309Z"
    },
    "papermill": {
     "duration": 0.032714,
     "end_time": "2022-07-27T08:57:49.781791",
     "exception": false,
     "start_time": "2022-07-27T08:57:49.749077",
     "status": "completed"
    },
    "tags": []
   },
   "outputs": [],
   "source": [
    "df= pd.read_csv('../input/netflix-original-films-imdb-scores/NetflixOriginals.csv', encoding='latin-1')"
   ]
  },
  {
   "cell_type": "code",
   "execution_count": 3,
   "id": "c57b76d0",
   "metadata": {
    "execution": {
     "iopub.execute_input": "2022-07-27T08:57:49.805134Z",
     "iopub.status.busy": "2022-07-27T08:57:49.803866Z",
     "iopub.status.idle": "2022-07-27T08:57:49.831976Z",
     "shell.execute_reply": "2022-07-27T08:57:49.831035Z"
    },
    "papermill": {
     "duration": 0.041887,
     "end_time": "2022-07-27T08:57:49.834231",
     "exception": false,
     "start_time": "2022-07-27T08:57:49.792344",
     "status": "completed"
    },
    "tags": []
   },
   "outputs": [
    {
     "data": {
      "text/html": [
       "<div>\n",
       "<style scoped>\n",
       "    .dataframe tbody tr th:only-of-type {\n",
       "        vertical-align: middle;\n",
       "    }\n",
       "\n",
       "    .dataframe tbody tr th {\n",
       "        vertical-align: top;\n",
       "    }\n",
       "\n",
       "    .dataframe thead th {\n",
       "        text-align: right;\n",
       "    }\n",
       "</style>\n",
       "<table border=\"1\" class=\"dataframe\">\n",
       "  <thead>\n",
       "    <tr style=\"text-align: right;\">\n",
       "      <th></th>\n",
       "      <th>Title</th>\n",
       "      <th>Genre</th>\n",
       "      <th>Premiere</th>\n",
       "      <th>Runtime</th>\n",
       "      <th>IMDB Score</th>\n",
       "      <th>Language</th>\n",
       "    </tr>\n",
       "  </thead>\n",
       "  <tbody>\n",
       "    <tr>\n",
       "      <th>0</th>\n",
       "      <td>Enter the Anime</td>\n",
       "      <td>Documentary</td>\n",
       "      <td>August 5, 2019</td>\n",
       "      <td>58</td>\n",
       "      <td>2.5</td>\n",
       "      <td>English/Japanese</td>\n",
       "    </tr>\n",
       "    <tr>\n",
       "      <th>1</th>\n",
       "      <td>Dark Forces</td>\n",
       "      <td>Thriller</td>\n",
       "      <td>August 21, 2020</td>\n",
       "      <td>81</td>\n",
       "      <td>2.6</td>\n",
       "      <td>Spanish</td>\n",
       "    </tr>\n",
       "    <tr>\n",
       "      <th>2</th>\n",
       "      <td>The App</td>\n",
       "      <td>Science fiction/Drama</td>\n",
       "      <td>December 26, 2019</td>\n",
       "      <td>79</td>\n",
       "      <td>2.6</td>\n",
       "      <td>Italian</td>\n",
       "    </tr>\n",
       "    <tr>\n",
       "      <th>3</th>\n",
       "      <td>The Open House</td>\n",
       "      <td>Horror thriller</td>\n",
       "      <td>January 19, 2018</td>\n",
       "      <td>94</td>\n",
       "      <td>3.2</td>\n",
       "      <td>English</td>\n",
       "    </tr>\n",
       "    <tr>\n",
       "      <th>4</th>\n",
       "      <td>Kaali Khuhi</td>\n",
       "      <td>Mystery</td>\n",
       "      <td>October 30, 2020</td>\n",
       "      <td>90</td>\n",
       "      <td>3.4</td>\n",
       "      <td>Hindi</td>\n",
       "    </tr>\n",
       "  </tbody>\n",
       "</table>\n",
       "</div>"
      ],
      "text/plain": [
       "             Title                  Genre           Premiere  Runtime  \\\n",
       "0  Enter the Anime            Documentary     August 5, 2019       58   \n",
       "1      Dark Forces               Thriller    August 21, 2020       81   \n",
       "2          The App  Science fiction/Drama  December 26, 2019       79   \n",
       "3   The Open House        Horror thriller   January 19, 2018       94   \n",
       "4      Kaali Khuhi                Mystery   October 30, 2020       90   \n",
       "\n",
       "   IMDB Score          Language  \n",
       "0         2.5  English/Japanese  \n",
       "1         2.6           Spanish  \n",
       "2         2.6           Italian  \n",
       "3         3.2           English  \n",
       "4         3.4             Hindi  "
      ]
     },
     "execution_count": 3,
     "metadata": {},
     "output_type": "execute_result"
    }
   ],
   "source": [
    "df.head()"
   ]
  },
  {
   "cell_type": "code",
   "execution_count": 4,
   "id": "ce38f47f",
   "metadata": {
    "execution": {
     "iopub.execute_input": "2022-07-27T08:57:49.857059Z",
     "iopub.status.busy": "2022-07-27T08:57:49.856173Z",
     "iopub.status.idle": "2022-07-27T08:57:49.884682Z",
     "shell.execute_reply": "2022-07-27T08:57:49.883181Z"
    },
    "papermill": {
     "duration": 0.04363,
     "end_time": "2022-07-27T08:57:49.888054",
     "exception": false,
     "start_time": "2022-07-27T08:57:49.844424",
     "status": "completed"
    },
    "tags": []
   },
   "outputs": [
    {
     "name": "stdout",
     "output_type": "stream",
     "text": [
      "<class 'pandas.core.frame.DataFrame'>\n",
      "RangeIndex: 584 entries, 0 to 583\n",
      "Data columns (total 6 columns):\n",
      " #   Column      Non-Null Count  Dtype  \n",
      "---  ------      --------------  -----  \n",
      " 0   Title       584 non-null    object \n",
      " 1   Genre       584 non-null    object \n",
      " 2   Premiere    584 non-null    object \n",
      " 3   Runtime     584 non-null    int64  \n",
      " 4   IMDB Score  584 non-null    float64\n",
      " 5   Language    584 non-null    object \n",
      "dtypes: float64(1), int64(1), object(4)\n",
      "memory usage: 27.5+ KB\n"
     ]
    }
   ],
   "source": [
    "df.info()"
   ]
  },
  {
   "cell_type": "code",
   "execution_count": 5,
   "id": "4ebefbd2",
   "metadata": {
    "execution": {
     "iopub.execute_input": "2022-07-27T08:57:49.911423Z",
     "iopub.status.busy": "2022-07-27T08:57:49.910971Z",
     "iopub.status.idle": "2022-07-27T08:57:49.922418Z",
     "shell.execute_reply": "2022-07-27T08:57:49.921302Z"
    },
    "papermill": {
     "duration": 0.025832,
     "end_time": "2022-07-27T08:57:49.924798",
     "exception": false,
     "start_time": "2022-07-27T08:57:49.898966",
     "status": "completed"
    },
    "tags": []
   },
   "outputs": [],
   "source": [
    "#aynı satırları siliyorum.\n",
    "df.drop_duplicates(inplace= True)"
   ]
  },
  {
   "cell_type": "code",
   "execution_count": 6,
   "id": "31092acc",
   "metadata": {
    "execution": {
     "iopub.execute_input": "2022-07-27T08:57:49.948066Z",
     "iopub.status.busy": "2022-07-27T08:57:49.946766Z",
     "iopub.status.idle": "2022-07-27T08:57:49.972712Z",
     "shell.execute_reply": "2022-07-27T08:57:49.971569Z"
    },
    "papermill": {
     "duration": 0.040527,
     "end_time": "2022-07-27T08:57:49.975699",
     "exception": false,
     "start_time": "2022-07-27T08:57:49.935172",
     "status": "completed"
    },
    "tags": []
   },
   "outputs": [
    {
     "data": {
      "text/html": [
       "<div>\n",
       "<style scoped>\n",
       "    .dataframe tbody tr th:only-of-type {\n",
       "        vertical-align: middle;\n",
       "    }\n",
       "\n",
       "    .dataframe tbody tr th {\n",
       "        vertical-align: top;\n",
       "    }\n",
       "\n",
       "    .dataframe thead th {\n",
       "        text-align: right;\n",
       "    }\n",
       "</style>\n",
       "<table border=\"1\" class=\"dataframe\">\n",
       "  <thead>\n",
       "    <tr style=\"text-align: right;\">\n",
       "      <th></th>\n",
       "      <th>count</th>\n",
       "      <th>mean</th>\n",
       "      <th>std</th>\n",
       "      <th>min</th>\n",
       "      <th>25%</th>\n",
       "      <th>50%</th>\n",
       "      <th>75%</th>\n",
       "      <th>max</th>\n",
       "    </tr>\n",
       "  </thead>\n",
       "  <tbody>\n",
       "    <tr>\n",
       "      <th>Runtime</th>\n",
       "      <td>584.0</td>\n",
       "      <td>93.577055</td>\n",
       "      <td>27.761683</td>\n",
       "      <td>4.0</td>\n",
       "      <td>86.0</td>\n",
       "      <td>97.00</td>\n",
       "      <td>108.0</td>\n",
       "      <td>209.0</td>\n",
       "    </tr>\n",
       "    <tr>\n",
       "      <th>IMDB Score</th>\n",
       "      <td>584.0</td>\n",
       "      <td>6.271747</td>\n",
       "      <td>0.979256</td>\n",
       "      <td>2.5</td>\n",
       "      <td>5.7</td>\n",
       "      <td>6.35</td>\n",
       "      <td>7.0</td>\n",
       "      <td>9.0</td>\n",
       "    </tr>\n",
       "  </tbody>\n",
       "</table>\n",
       "</div>"
      ],
      "text/plain": [
       "            count       mean        std  min   25%    50%    75%    max\n",
       "Runtime     584.0  93.577055  27.761683  4.0  86.0  97.00  108.0  209.0\n",
       "IMDB Score  584.0   6.271747   0.979256  2.5   5.7   6.35    7.0    9.0"
      ]
     },
     "execution_count": 6,
     "metadata": {},
     "output_type": "execute_result"
    }
   ],
   "source": [
    "df.describe().T"
   ]
  },
  {
   "cell_type": "code",
   "execution_count": 7,
   "id": "85c6e4df",
   "metadata": {
    "execution": {
     "iopub.execute_input": "2022-07-27T08:57:50.000937Z",
     "iopub.status.busy": "2022-07-27T08:57:50.000478Z",
     "iopub.status.idle": "2022-07-27T08:57:50.009447Z",
     "shell.execute_reply": "2022-07-27T08:57:50.008325Z"
    },
    "papermill": {
     "duration": 0.024002,
     "end_time": "2022-07-27T08:57:50.011842",
     "exception": false,
     "start_time": "2022-07-27T08:57:49.987840",
     "status": "completed"
    },
    "tags": []
   },
   "outputs": [],
   "source": [
    "def missing_values_table(df):\n",
    "    mis_val = df.isnull().sum()\n",
    "    mis_val_percent = 100 * df.isnull().sum() / len(df)\n",
    "    mis_val_table = pd.concat([mis_val, mis_val_percent], axis=1)\n",
    "    mis_val_table_ren_columns = mis_val_table.rename(\n",
    "    columns = {0 : 'Missing Values', 1 : '% of Total Values'})\n",
    "    mis_val_table_ren_columns = mis_val_table_ren_columns[\n",
    "        mis_val_table_ren_columns.iloc[:,1] != 0].sort_values(\n",
    "    '% of Total Values', ascending=False).round(1)\n",
    "    print (\"Your selected dataframe has \" + str(df.shape[1]) + \" columns.\\n\"      \n",
    "        \"There are \" + str(mis_val_table_ren_columns.shape[0]) +\n",
    "            \" columns that have missing values.\")\n",
    "    return mis_val_table_ren_columns"
   ]
  },
  {
   "cell_type": "code",
   "execution_count": 8,
   "id": "ef24ec20",
   "metadata": {
    "execution": {
     "iopub.execute_input": "2022-07-27T08:57:50.036318Z",
     "iopub.status.busy": "2022-07-27T08:57:50.035517Z",
     "iopub.status.idle": "2022-07-27T08:57:50.053478Z",
     "shell.execute_reply": "2022-07-27T08:57:50.051837Z"
    },
    "papermill": {
     "duration": 0.034165,
     "end_time": "2022-07-27T08:57:50.057385",
     "exception": false,
     "start_time": "2022-07-27T08:57:50.023220",
     "status": "completed"
    },
    "tags": []
   },
   "outputs": [
    {
     "name": "stdout",
     "output_type": "stream",
     "text": [
      "Your selected dataframe has 6 columns.\n",
      "There are 0 columns that have missing values.\n"
     ]
    },
    {
     "data": {
      "text/html": [
       "<div>\n",
       "<style scoped>\n",
       "    .dataframe tbody tr th:only-of-type {\n",
       "        vertical-align: middle;\n",
       "    }\n",
       "\n",
       "    .dataframe tbody tr th {\n",
       "        vertical-align: top;\n",
       "    }\n",
       "\n",
       "    .dataframe thead th {\n",
       "        text-align: right;\n",
       "    }\n",
       "</style>\n",
       "<table border=\"1\" class=\"dataframe\">\n",
       "  <thead>\n",
       "    <tr style=\"text-align: right;\">\n",
       "      <th></th>\n",
       "      <th>Missing Values</th>\n",
       "      <th>% of Total Values</th>\n",
       "    </tr>\n",
       "  </thead>\n",
       "  <tbody>\n",
       "  </tbody>\n",
       "</table>\n",
       "</div>"
      ],
      "text/plain": [
       "Empty DataFrame\n",
       "Columns: [Missing Values, % of Total Values]\n",
       "Index: []"
      ]
     },
     "execution_count": 8,
     "metadata": {},
     "output_type": "execute_result"
    }
   ],
   "source": [
    "missing_values_table(df)"
   ]
  },
  {
   "cell_type": "code",
   "execution_count": 9,
   "id": "88a18051",
   "metadata": {
    "execution": {
     "iopub.execute_input": "2022-07-27T08:57:50.081766Z",
     "iopub.status.busy": "2022-07-27T08:57:50.081312Z",
     "iopub.status.idle": "2022-07-27T08:57:50.094248Z",
     "shell.execute_reply": "2022-07-27T08:57:50.092810Z"
    },
    "papermill": {
     "duration": 0.028727,
     "end_time": "2022-07-27T08:57:50.096926",
     "exception": false,
     "start_time": "2022-07-27T08:57:50.068199",
     "status": "completed"
    },
    "tags": []
   },
   "outputs": [
    {
     "data": {
      "text/plain": [
       "Title         0\n",
       "Genre         0\n",
       "Premiere      0\n",
       "Runtime       0\n",
       "IMDB Score    0\n",
       "Language      0\n",
       "dtype: int64"
      ]
     },
     "execution_count": 9,
     "metadata": {},
     "output_type": "execute_result"
    }
   ],
   "source": [
    "df.isnull().sum()"
   ]
  },
  {
   "cell_type": "code",
   "execution_count": 10,
   "id": "96e37c9e",
   "metadata": {
    "execution": {
     "iopub.execute_input": "2022-07-27T08:57:50.121197Z",
     "iopub.status.busy": "2022-07-27T08:57:50.120791Z",
     "iopub.status.idle": "2022-07-27T08:57:50.128915Z",
     "shell.execute_reply": "2022-07-27T08:57:50.127661Z"
    },
    "papermill": {
     "duration": 0.022871,
     "end_time": "2022-07-27T08:57:50.131112",
     "exception": false,
     "start_time": "2022-07-27T08:57:50.108241",
     "status": "completed"
    },
    "tags": []
   },
   "outputs": [
    {
     "data": {
      "text/plain": [
       "93.57705479452055"
      ]
     },
     "execution_count": 10,
     "metadata": {},
     "output_type": "execute_result"
    }
   ],
   "source": [
    "# 1. uzun soluklu filmler için runtime ortalamasını alıp ortalamadan uzun süre olanları çekiyorum.\n",
    "df[\"Runtime\"].mean()"
   ]
  },
  {
   "cell_type": "code",
   "execution_count": 11,
   "id": "39038b42",
   "metadata": {
    "execution": {
     "iopub.execute_input": "2022-07-27T08:57:50.154856Z",
     "iopub.status.busy": "2022-07-27T08:57:50.154489Z",
     "iopub.status.idle": "2022-07-27T08:57:50.161601Z",
     "shell.execute_reply": "2022-07-27T08:57:50.160334Z"
    },
    "papermill": {
     "duration": 0.021837,
     "end_time": "2022-07-27T08:57:50.163733",
     "exception": false,
     "start_time": "2022-07-27T08:57:50.141896",
     "status": "completed"
    },
    "tags": []
   },
   "outputs": [],
   "source": [
    "filmUzunlukKategori = []\n",
    "for i in df.Runtime:\n",
    "    if i <= 80:\n",
    "        filmUzunlukKategori.append('Cok Kisa')\n",
    "    elif i > 80 and i <=120:\n",
    "        filmUzunlukKategori.append('Normal')\n",
    "    else:\n",
    "        filmUzunlukKategori.append('Cok Uzun')"
   ]
  },
  {
   "cell_type": "code",
   "execution_count": 12,
   "id": "d5fa2d03",
   "metadata": {
    "execution": {
     "iopub.execute_input": "2022-07-27T08:57:50.187721Z",
     "iopub.status.busy": "2022-07-27T08:57:50.187096Z",
     "iopub.status.idle": "2022-07-27T08:57:50.204286Z",
     "shell.execute_reply": "2022-07-27T08:57:50.203375Z"
    },
    "papermill": {
     "duration": 0.031852,
     "end_time": "2022-07-27T08:57:50.206326",
     "exception": false,
     "start_time": "2022-07-27T08:57:50.174474",
     "status": "completed"
    },
    "tags": []
   },
   "outputs": [
    {
     "data": {
      "text/html": [
       "<div>\n",
       "<style scoped>\n",
       "    .dataframe tbody tr th:only-of-type {\n",
       "        vertical-align: middle;\n",
       "    }\n",
       "\n",
       "    .dataframe tbody tr th {\n",
       "        vertical-align: top;\n",
       "    }\n",
       "\n",
       "    .dataframe thead th {\n",
       "        text-align: right;\n",
       "    }\n",
       "</style>\n",
       "<table border=\"1\" class=\"dataframe\">\n",
       "  <thead>\n",
       "    <tr style=\"text-align: right;\">\n",
       "      <th></th>\n",
       "      <th>Title</th>\n",
       "      <th>Genre</th>\n",
       "      <th>Premiere</th>\n",
       "      <th>Runtime</th>\n",
       "      <th>IMDB Score</th>\n",
       "      <th>Language</th>\n",
       "      <th>uzunlukKategori</th>\n",
       "    </tr>\n",
       "  </thead>\n",
       "  <tbody>\n",
       "    <tr>\n",
       "      <th>0</th>\n",
       "      <td>Enter the Anime</td>\n",
       "      <td>Documentary</td>\n",
       "      <td>August 5, 2019</td>\n",
       "      <td>58</td>\n",
       "      <td>2.5</td>\n",
       "      <td>English/Japanese</td>\n",
       "      <td>Cok Kisa</td>\n",
       "    </tr>\n",
       "    <tr>\n",
       "      <th>1</th>\n",
       "      <td>Dark Forces</td>\n",
       "      <td>Thriller</td>\n",
       "      <td>August 21, 2020</td>\n",
       "      <td>81</td>\n",
       "      <td>2.6</td>\n",
       "      <td>Spanish</td>\n",
       "      <td>Normal</td>\n",
       "    </tr>\n",
       "    <tr>\n",
       "      <th>2</th>\n",
       "      <td>The App</td>\n",
       "      <td>Science fiction/Drama</td>\n",
       "      <td>December 26, 2019</td>\n",
       "      <td>79</td>\n",
       "      <td>2.6</td>\n",
       "      <td>Italian</td>\n",
       "      <td>Cok Kisa</td>\n",
       "    </tr>\n",
       "    <tr>\n",
       "      <th>3</th>\n",
       "      <td>The Open House</td>\n",
       "      <td>Horror thriller</td>\n",
       "      <td>January 19, 2018</td>\n",
       "      <td>94</td>\n",
       "      <td>3.2</td>\n",
       "      <td>English</td>\n",
       "      <td>Normal</td>\n",
       "    </tr>\n",
       "    <tr>\n",
       "      <th>4</th>\n",
       "      <td>Kaali Khuhi</td>\n",
       "      <td>Mystery</td>\n",
       "      <td>October 30, 2020</td>\n",
       "      <td>90</td>\n",
       "      <td>3.4</td>\n",
       "      <td>Hindi</td>\n",
       "      <td>Normal</td>\n",
       "    </tr>\n",
       "  </tbody>\n",
       "</table>\n",
       "</div>"
      ],
      "text/plain": [
       "             Title                  Genre           Premiere  Runtime  \\\n",
       "0  Enter the Anime            Documentary     August 5, 2019       58   \n",
       "1      Dark Forces               Thriller    August 21, 2020       81   \n",
       "2          The App  Science fiction/Drama  December 26, 2019       79   \n",
       "3   The Open House        Horror thriller   January 19, 2018       94   \n",
       "4      Kaali Khuhi                Mystery   October 30, 2020       90   \n",
       "\n",
       "   IMDB Score          Language uzunlukKategori  \n",
       "0         2.5  English/Japanese        Cok Kisa  \n",
       "1         2.6           Spanish          Normal  \n",
       "2         2.6           Italian        Cok Kisa  \n",
       "3         3.2           English          Normal  \n",
       "4         3.4             Hindi          Normal  "
      ]
     },
     "execution_count": 12,
     "metadata": {},
     "output_type": "execute_result"
    }
   ],
   "source": [
    "df['uzunlukKategori'] = filmUzunlukKategori\n",
    "df.head()"
   ]
  },
  {
   "cell_type": "code",
   "execution_count": 13,
   "id": "65bcb8eb",
   "metadata": {
    "execution": {
     "iopub.execute_input": "2022-07-27T08:57:50.231157Z",
     "iopub.status.busy": "2022-07-27T08:57:50.230711Z",
     "iopub.status.idle": "2022-07-27T08:57:50.252340Z",
     "shell.execute_reply": "2022-07-27T08:57:50.251357Z"
    },
    "papermill": {
     "duration": 0.036823,
     "end_time": "2022-07-27T08:57:50.254537",
     "exception": false,
     "start_time": "2022-07-27T08:57:50.217714",
     "status": "completed"
    },
    "tags": []
   },
   "outputs": [
    {
     "data": {
      "text/html": [
       "<div>\n",
       "<style scoped>\n",
       "    .dataframe tbody tr th:only-of-type {\n",
       "        vertical-align: middle;\n",
       "    }\n",
       "\n",
       "    .dataframe tbody tr th {\n",
       "        vertical-align: top;\n",
       "    }\n",
       "\n",
       "    .dataframe thead th {\n",
       "        text-align: right;\n",
       "    }\n",
       "</style>\n",
       "<table border=\"1\" class=\"dataframe\">\n",
       "  <thead>\n",
       "    <tr style=\"text-align: right;\">\n",
       "      <th></th>\n",
       "      <th>Title</th>\n",
       "      <th>Genre</th>\n",
       "      <th>Premiere</th>\n",
       "      <th>Runtime</th>\n",
       "      <th>IMDB Score</th>\n",
       "      <th>Language</th>\n",
       "      <th>uzunlukKategori</th>\n",
       "    </tr>\n",
       "  </thead>\n",
       "  <tbody>\n",
       "    <tr>\n",
       "      <th>5</th>\n",
       "      <td>Drive</td>\n",
       "      <td>Action</td>\n",
       "      <td>November 1, 2019</td>\n",
       "      <td>147</td>\n",
       "      <td>3.5</td>\n",
       "      <td>Hindi</td>\n",
       "      <td>Cok Uzun</td>\n",
       "    </tr>\n",
       "    <tr>\n",
       "      <th>7</th>\n",
       "      <td>The Last Days of American Crime</td>\n",
       "      <td>Heist film/Thriller</td>\n",
       "      <td>June 5, 2020</td>\n",
       "      <td>149</td>\n",
       "      <td>3.7</td>\n",
       "      <td>English</td>\n",
       "      <td>Cok Uzun</td>\n",
       "    </tr>\n",
       "    <tr>\n",
       "      <th>9</th>\n",
       "      <td>Sardar Ka Grandson</td>\n",
       "      <td>Comedy</td>\n",
       "      <td>May 18, 2021</td>\n",
       "      <td>139</td>\n",
       "      <td>4.1</td>\n",
       "      <td>Hindi</td>\n",
       "      <td>Cok Uzun</td>\n",
       "    </tr>\n",
       "    <tr>\n",
       "      <th>16</th>\n",
       "      <td>Ghost Stories</td>\n",
       "      <td>Horror anthology</td>\n",
       "      <td>January 1, 2020</td>\n",
       "      <td>144</td>\n",
       "      <td>4.3</td>\n",
       "      <td>Hindi</td>\n",
       "      <td>Cok Uzun</td>\n",
       "    </tr>\n",
       "    <tr>\n",
       "      <th>77</th>\n",
       "      <td>Sandy Wexler</td>\n",
       "      <td>Comedy</td>\n",
       "      <td>April 14, 2017</td>\n",
       "      <td>131</td>\n",
       "      <td>5.2</td>\n",
       "      <td>English</td>\n",
       "      <td>Cok Uzun</td>\n",
       "    </tr>\n",
       "    <tr>\n",
       "      <th>...</th>\n",
       "      <td>...</td>\n",
       "      <td>...</td>\n",
       "      <td>...</td>\n",
       "      <td>...</td>\n",
       "      <td>...</td>\n",
       "      <td>...</td>\n",
       "      <td>...</td>\n",
       "    </tr>\n",
       "    <tr>\n",
       "      <th>561</th>\n",
       "      <td>The Irishman</td>\n",
       "      <td>Crime drama</td>\n",
       "      <td>November 27, 2019</td>\n",
       "      <td>209</td>\n",
       "      <td>7.8</td>\n",
       "      <td>English</td>\n",
       "      <td>Cok Uzun</td>\n",
       "    </tr>\n",
       "    <tr>\n",
       "      <th>562</th>\n",
       "      <td>The Trial of the Chicago 7</td>\n",
       "      <td>Drama</td>\n",
       "      <td>October 16, 2020</td>\n",
       "      <td>130</td>\n",
       "      <td>7.8</td>\n",
       "      <td>English</td>\n",
       "      <td>Cok Uzun</td>\n",
       "    </tr>\n",
       "    <tr>\n",
       "      <th>565</th>\n",
       "      <td>Marriage Story</td>\n",
       "      <td>Drama</td>\n",
       "      <td>December 6, 2019</td>\n",
       "      <td>136</td>\n",
       "      <td>7.9</td>\n",
       "      <td>English</td>\n",
       "      <td>Cok Uzun</td>\n",
       "    </tr>\n",
       "    <tr>\n",
       "      <th>579</th>\n",
       "      <td>Taylor Swift: Reputation Stadium Tour</td>\n",
       "      <td>Concert Film</td>\n",
       "      <td>December 31, 2018</td>\n",
       "      <td>125</td>\n",
       "      <td>8.4</td>\n",
       "      <td>English</td>\n",
       "      <td>Cok Uzun</td>\n",
       "    </tr>\n",
       "    <tr>\n",
       "      <th>581</th>\n",
       "      <td>Springsteen on Broadway</td>\n",
       "      <td>One-man show</td>\n",
       "      <td>December 16, 2018</td>\n",
       "      <td>153</td>\n",
       "      <td>8.5</td>\n",
       "      <td>English</td>\n",
       "      <td>Cok Uzun</td>\n",
       "    </tr>\n",
       "  </tbody>\n",
       "</table>\n",
       "<p>68 rows × 7 columns</p>\n",
       "</div>"
      ],
      "text/plain": [
       "                                     Title                Genre  \\\n",
       "5                                    Drive               Action   \n",
       "7          The Last Days of American Crime  Heist film/Thriller   \n",
       "9                       Sardar Ka Grandson               Comedy   \n",
       "16                           Ghost Stories     Horror anthology   \n",
       "77                            Sandy Wexler               Comedy   \n",
       "..                                     ...                  ...   \n",
       "561                           The Irishman          Crime drama   \n",
       "562             The Trial of the Chicago 7                Drama   \n",
       "565                         Marriage Story                Drama   \n",
       "579  Taylor Swift: Reputation Stadium Tour         Concert Film   \n",
       "581                Springsteen on Broadway         One-man show   \n",
       "\n",
       "              Premiere  Runtime  IMDB Score Language uzunlukKategori  \n",
       "5     November 1, 2019      147         3.5    Hindi        Cok Uzun  \n",
       "7         June 5, 2020      149         3.7  English        Cok Uzun  \n",
       "9         May 18, 2021      139         4.1    Hindi        Cok Uzun  \n",
       "16     January 1, 2020      144         4.3    Hindi        Cok Uzun  \n",
       "77      April 14, 2017      131         5.2  English        Cok Uzun  \n",
       "..                 ...      ...         ...      ...             ...  \n",
       "561  November 27, 2019      209         7.8  English        Cok Uzun  \n",
       "562   October 16, 2020      130         7.8  English        Cok Uzun  \n",
       "565   December 6, 2019      136         7.9  English        Cok Uzun  \n",
       "579  December 31, 2018      125         8.4  English        Cok Uzun  \n",
       "581  December 16, 2018      153         8.5  English        Cok Uzun  \n",
       "\n",
       "[68 rows x 7 columns]"
      ]
     },
     "execution_count": 13,
     "metadata": {},
     "output_type": "execute_result"
    }
   ],
   "source": [
    "uzun_soluklu_filmler= df[df.uzunlukKategori == 'Cok Uzun']\n",
    "uzun_soluklu_filmler"
   ]
  },
  {
   "cell_type": "code",
   "execution_count": 14,
   "id": "2fe1639e",
   "metadata": {
    "execution": {
     "iopub.execute_input": "2022-07-27T08:57:50.280189Z",
     "iopub.status.busy": "2022-07-27T08:57:50.279355Z",
     "iopub.status.idle": "2022-07-27T08:57:50.284628Z",
     "shell.execute_reply": "2022-07-27T08:57:50.283309Z"
    },
    "papermill": {
     "duration": 0.021,
     "end_time": "2022-07-27T08:57:50.287178",
     "exception": false,
     "start_time": "2022-07-27T08:57:50.266178",
     "status": "completed"
    },
    "tags": []
   },
   "outputs": [],
   "source": [
    "import matplotlib.pyplot as plt\n",
    "import numpy as np"
   ]
  },
  {
   "cell_type": "code",
   "execution_count": 15,
   "id": "eb6d914f",
   "metadata": {
    "execution": {
     "iopub.execute_input": "2022-07-27T08:57:50.314670Z",
     "iopub.status.busy": "2022-07-27T08:57:50.313871Z",
     "iopub.status.idle": "2022-07-27T08:57:50.318954Z",
     "shell.execute_reply": "2022-07-27T08:57:50.318131Z"
    },
    "papermill": {
     "duration": 0.021658,
     "end_time": "2022-07-27T08:57:50.321256",
     "exception": false,
     "start_time": "2022-07-27T08:57:50.299598",
     "status": "completed"
    },
    "tags": []
   },
   "outputs": [],
   "source": [
    "labels= uzun_soluklu_filmler[\"Language\"]"
   ]
  },
  {
   "cell_type": "code",
   "execution_count": 16,
   "id": "c04d26a7",
   "metadata": {
    "execution": {
     "iopub.execute_input": "2022-07-27T08:57:50.348245Z",
     "iopub.status.busy": "2022-07-27T08:57:50.347607Z",
     "iopub.status.idle": "2022-07-27T08:57:50.354548Z",
     "shell.execute_reply": "2022-07-27T08:57:50.353363Z"
    },
    "papermill": {
     "duration": 0.023297,
     "end_time": "2022-07-27T08:57:50.356880",
     "exception": false,
     "start_time": "2022-07-27T08:57:50.333583",
     "status": "completed"
    },
    "tags": []
   },
   "outputs": [
    {
     "data": {
      "text/plain": [
       "array(['Hindi', 'English', 'Japanese', 'Marathi', 'Spanish', 'Korean',\n",
       "       'Indonesian', 'Khmer/English/French', 'Portuguese',\n",
       "       'English/Korean', 'English/Akan'], dtype=object)"
      ]
     },
     "execution_count": 16,
     "metadata": {},
     "output_type": "execute_result"
    }
   ],
   "source": [
    "labels.unique()"
   ]
  },
  {
   "cell_type": "code",
   "execution_count": 17,
   "id": "62320e74",
   "metadata": {
    "execution": {
     "iopub.execute_input": "2022-07-27T08:57:50.382612Z",
     "iopub.status.busy": "2022-07-27T08:57:50.381927Z",
     "iopub.status.idle": "2022-07-27T08:57:50.386964Z",
     "shell.execute_reply": "2022-07-27T08:57:50.386019Z"
    },
    "papermill": {
     "duration": 0.020911,
     "end_time": "2022-07-27T08:57:50.389719",
     "exception": false,
     "start_time": "2022-07-27T08:57:50.368808",
     "status": "completed"
    },
    "tags": []
   },
   "outputs": [],
   "source": [
    "from collections import Counter"
   ]
  },
  {
   "cell_type": "code",
   "execution_count": 18,
   "id": "9fa30675",
   "metadata": {
    "execution": {
     "iopub.execute_input": "2022-07-27T08:57:50.416832Z",
     "iopub.status.busy": "2022-07-27T08:57:50.416450Z",
     "iopub.status.idle": "2022-07-27T08:57:50.421674Z",
     "shell.execute_reply": "2022-07-27T08:57:50.420809Z"
    },
    "papermill": {
     "duration": 0.020949,
     "end_time": "2022-07-27T08:57:50.423924",
     "exception": false,
     "start_time": "2022-07-27T08:57:50.402975",
     "status": "completed"
    },
    "tags": []
   },
   "outputs": [],
   "source": [
    "status_d = Counter(labels)"
   ]
  },
  {
   "cell_type": "code",
   "execution_count": 19,
   "id": "315c7be7",
   "metadata": {
    "execution": {
     "iopub.execute_input": "2022-07-27T08:57:50.452281Z",
     "iopub.status.busy": "2022-07-27T08:57:50.450753Z",
     "iopub.status.idle": "2022-07-27T08:57:50.458828Z",
     "shell.execute_reply": "2022-07-27T08:57:50.457643Z"
    },
    "papermill": {
     "duration": 0.024449,
     "end_time": "2022-07-27T08:57:50.461257",
     "exception": false,
     "start_time": "2022-07-27T08:57:50.436808",
     "status": "completed"
    },
    "tags": []
   },
   "outputs": [
    {
     "data": {
      "text/plain": [
       "Counter({'Hindi': 8,\n",
       "         'English': 46,\n",
       "         'Japanese': 2,\n",
       "         'Marathi': 2,\n",
       "         'Spanish': 2,\n",
       "         'Korean': 3,\n",
       "         'Indonesian': 1,\n",
       "         'Khmer/English/French': 1,\n",
       "         'Portuguese': 1,\n",
       "         'English/Korean': 1,\n",
       "         'English/Akan': 1})"
      ]
     },
     "execution_count": 19,
     "metadata": {},
     "output_type": "execute_result"
    }
   ],
   "source": [
    "status_d"
   ]
  },
  {
   "cell_type": "code",
   "execution_count": 20,
   "id": "c771816e",
   "metadata": {
    "execution": {
     "iopub.execute_input": "2022-07-27T08:57:50.487035Z",
     "iopub.status.busy": "2022-07-27T08:57:50.486627Z",
     "iopub.status.idle": "2022-07-27T08:57:50.734543Z",
     "shell.execute_reply": "2022-07-27T08:57:50.733087Z"
    },
    "papermill": {
     "duration": 0.26486,
     "end_time": "2022-07-27T08:57:50.738031",
     "exception": false,
     "start_time": "2022-07-27T08:57:50.473171",
     "status": "completed"
    },
    "tags": []
   },
   "outputs": [
    {
     "data": {
      "image/png": "[encoded data removed]",
      "text/plain": [
       "<Figure size 432x288 with 1 Axes>"
      ]
     },
     "metadata": {},
     "output_type": "display_data"
    }
   ],
   "source": [
    "key_list = list(status_d.keys())\n",
    "val_list = list(status_d.values())\n",
    "\n",
    "fig, ax = plt.subplots()\n",
    "ax.pie(val_list, labels = key_list, autopct='%.0f%%')\n",
    "ax.set_title('Survery responses')\n",
    "plt.show();"
   ]
  },
  {
   "cell_type": "code",
   "execution_count": 21,
   "id": "d7a182fe",
   "metadata": {
    "execution": {
     "iopub.execute_input": "2022-07-27T08:57:50.776269Z",
     "iopub.status.busy": "2022-07-27T08:57:50.775422Z",
     "iopub.status.idle": "2022-07-27T08:57:50.790898Z",
     "shell.execute_reply": "2022-07-27T08:57:50.789827Z"
    },
    "papermill": {
     "duration": 0.0329,
     "end_time": "2022-07-27T08:57:50.793822",
     "exception": false,
     "start_time": "2022-07-27T08:57:50.760922",
     "status": "completed"
    },
    "tags": []
   },
   "outputs": [
    {
     "data": {
      "text/html": [
       "<div>\n",
       "<style scoped>\n",
       "    .dataframe tbody tr th:only-of-type {\n",
       "        vertical-align: middle;\n",
       "    }\n",
       "\n",
       "    .dataframe tbody tr th {\n",
       "        vertical-align: top;\n",
       "    }\n",
       "\n",
       "    .dataframe thead th {\n",
       "        text-align: right;\n",
       "    }\n",
       "</style>\n",
       "<table border=\"1\" class=\"dataframe\">\n",
       "  <thead>\n",
       "    <tr style=\"text-align: right;\">\n",
       "      <th></th>\n",
       "      <th>Title</th>\n",
       "      <th>Genre</th>\n",
       "      <th>Premiere</th>\n",
       "      <th>Runtime</th>\n",
       "      <th>IMDB Score</th>\n",
       "      <th>Language</th>\n",
       "      <th>uzunlukKategori</th>\n",
       "    </tr>\n",
       "  </thead>\n",
       "  <tbody>\n",
       "    <tr>\n",
       "      <th>0</th>\n",
       "      <td>Enter the Anime</td>\n",
       "      <td>Documentary</td>\n",
       "      <td>August 5, 2019</td>\n",
       "      <td>58</td>\n",
       "      <td>2.5</td>\n",
       "      <td>English/Japanese</td>\n",
       "      <td>Cok Kisa</td>\n",
       "    </tr>\n",
       "    <tr>\n",
       "      <th>1</th>\n",
       "      <td>Dark Forces</td>\n",
       "      <td>Thriller</td>\n",
       "      <td>August 21, 2020</td>\n",
       "      <td>81</td>\n",
       "      <td>2.6</td>\n",
       "      <td>Spanish</td>\n",
       "      <td>Normal</td>\n",
       "    </tr>\n",
       "    <tr>\n",
       "      <th>2</th>\n",
       "      <td>The App</td>\n",
       "      <td>Science fiction/Drama</td>\n",
       "      <td>December 26, 2019</td>\n",
       "      <td>79</td>\n",
       "      <td>2.6</td>\n",
       "      <td>Italian</td>\n",
       "      <td>Cok Kisa</td>\n",
       "    </tr>\n",
       "    <tr>\n",
       "      <th>3</th>\n",
       "      <td>The Open House</td>\n",
       "      <td>Horror thriller</td>\n",
       "      <td>January 19, 2018</td>\n",
       "      <td>94</td>\n",
       "      <td>3.2</td>\n",
       "      <td>English</td>\n",
       "      <td>Normal</td>\n",
       "    </tr>\n",
       "    <tr>\n",
       "      <th>4</th>\n",
       "      <td>Kaali Khuhi</td>\n",
       "      <td>Mystery</td>\n",
       "      <td>October 30, 2020</td>\n",
       "      <td>90</td>\n",
       "      <td>3.4</td>\n",
       "      <td>Hindi</td>\n",
       "      <td>Normal</td>\n",
       "    </tr>\n",
       "  </tbody>\n",
       "</table>\n",
       "</div>"
      ],
      "text/plain": [
       "             Title                  Genre           Premiere  Runtime  \\\n",
       "0  Enter the Anime            Documentary     August 5, 2019       58   \n",
       "1      Dark Forces               Thriller    August 21, 2020       81   \n",
       "2          The App  Science fiction/Drama  December 26, 2019       79   \n",
       "3   The Open House        Horror thriller   January 19, 2018       94   \n",
       "4      Kaali Khuhi                Mystery   October 30, 2020       90   \n",
       "\n",
       "   IMDB Score          Language uzunlukKategori  \n",
       "0         2.5  English/Japanese        Cok Kisa  \n",
       "1         2.6           Spanish          Normal  \n",
       "2         2.6           Italian        Cok Kisa  \n",
       "3         3.2           English          Normal  \n",
       "4         3.4             Hindi          Normal  "
      ]
     },
     "execution_count": 21,
     "metadata": {},
     "output_type": "execute_result"
    }
   ],
   "source": [
    "df.head()"
   ]
  },
  {
   "cell_type": "code",
   "execution_count": 22,
   "id": "5982976e",
   "metadata": {
    "execution": {
     "iopub.execute_input": "2022-07-27T08:57:50.820775Z",
     "iopub.status.busy": "2022-07-27T08:57:50.820107Z",
     "iopub.status.idle": "2022-07-27T08:57:53.447725Z",
     "shell.execute_reply": "2022-07-27T08:57:53.446106Z"
    },
    "papermill": {
     "duration": 2.644814,
     "end_time": "2022-07-27T08:57:53.450962",
     "exception": false,
     "start_time": "2022-07-27T08:57:50.806148",
     "status": "completed"
    },
    "tags": []
   },
   "outputs": [
    {
     "name": "stderr",
     "output_type": "stream",
     "text": [
      "/opt/conda/lib/python3.7/site-packages/seaborn/_decorators.py:43: FutureWarning: Pass the following variables as keyword args: x, y. From version 0.12, the only valid positional argument will be `data`, and passing other arguments without an explicit keyword will result in an error or misinterpretation.\n",
      "  FutureWarning\n"
     ]
    },
    {
     "data": {
      "text/plain": [
       "Text(0.5, 1.0, \"2019 Ocak ile 2020 Haziran tarihleri arasında 'Documentary' türünde çekilmiş filmlerin IMDB değerleri\")"
      ]
     },
     "execution_count": 22,
     "metadata": {},
     "output_type": "execute_result"
    },
    {
     "data": {
      "image/png": "[encoded data removed]",
      "text/plain": [
       "<Figure size 576x1080 with 1 Axes>"
      ]
     },
     "metadata": {
      "needs_background": "light"
     },
     "output_type": "display_data"
    }
   ],
   "source": [
    "# 2. 2019 Ocak ile 2020 Haziran tarihleri arasında 'Documentary' türünde çekilmiş filmlerin IMDB değerlerini bulup görselleştiriniz.\n",
    "\n",
    "df[\"Date\"]= pd.to_datetime(df.Premiere)\n",
    "df[\"Yıl\"]= df[\"Date\"].dt.year\n",
    "df[\"Month\"]= df[\"Date\"].dt.month\n",
    "film= df[df[\"Genre\"]== \"Documentary\"].sort_values([\"Yıl\",\"Month\"])\n",
    "film1= film[film[\"Yıl\"]==2019]\n",
    "film2= film[(film[\"Yıl\"]==2020) & (film[\"Month\"]<=6)]\n",
    "\n",
    "film_imdb= pd.concat([film1,film2], axis=0)\n",
    "film_imdb\n",
    "\n",
    "import seaborn as sns\n",
    "plt.figure(figsize=(8,15))\n",
    "sns.barplot(film_imdb[\"IMDB Score\"], film_imdb[\"Title\"])\n",
    "plt.title(\"2019 Ocak ile 2020 Haziran tarihleri arasında 'Documentary' türünde çekilmiş filmlerin IMDB değerleri\")"
   ]
  },
  {
   "cell_type": "code",
   "execution_count": 23,
   "id": "a4088cec",
   "metadata": {
    "execution": {
     "iopub.execute_input": "2022-07-27T08:57:53.483180Z",
     "iopub.status.busy": "2022-07-27T08:57:53.482687Z",
     "iopub.status.idle": "2022-07-27T08:57:53.561174Z",
     "shell.execute_reply": "2022-07-27T08:57:53.559912Z"
    },
    "papermill": {
     "duration": 0.097866,
     "end_time": "2022-07-27T08:57:53.564071",
     "exception": false,
     "start_time": "2022-07-27T08:57:53.466205",
     "status": "completed"
    },
    "tags": []
   },
   "outputs": [
    {
     "data": {
      "text/html": [
       "<div>\n",
       "<style scoped>\n",
       "    .dataframe tbody tr th:only-of-type {\n",
       "        vertical-align: middle;\n",
       "    }\n",
       "\n",
       "    .dataframe tbody tr th {\n",
       "        vertical-align: top;\n",
       "    }\n",
       "\n",
       "    .dataframe thead th {\n",
       "        text-align: right;\n",
       "    }\n",
       "</style>\n",
       "<table border=\"1\" class=\"dataframe\">\n",
       "  <thead>\n",
       "    <tr style=\"text-align: right;\">\n",
       "      <th></th>\n",
       "      <th>Title</th>\n",
       "      <th>Premiere</th>\n",
       "      <th>Runtime</th>\n",
       "      <th>IMDB Score</th>\n",
       "      <th>Language</th>\n",
       "      <th>uzunlukKategori</th>\n",
       "      <th>Date</th>\n",
       "      <th>Yıl</th>\n",
       "      <th>Month</th>\n",
       "    </tr>\n",
       "    <tr>\n",
       "      <th>Genre</th>\n",
       "      <th></th>\n",
       "      <th></th>\n",
       "      <th></th>\n",
       "      <th></th>\n",
       "      <th></th>\n",
       "      <th></th>\n",
       "      <th></th>\n",
       "      <th></th>\n",
       "      <th></th>\n",
       "    </tr>\n",
       "  </thead>\n",
       "  <tbody>\n",
       "    <tr>\n",
       "      <th>Documentary</th>\n",
       "      <td>Zion</td>\n",
       "      <td>September 9, 2020</td>\n",
       "      <td>144</td>\n",
       "      <td>9.0</td>\n",
       "      <td>English</td>\n",
       "      <td>Normal</td>\n",
       "      <td>2021-05-26</td>\n",
       "      <td>2021</td>\n",
       "      <td>12</td>\n",
       "    </tr>\n",
       "    <tr>\n",
       "      <th>One-man show</th>\n",
       "      <td>Springsteen on Broadway</td>\n",
       "      <td>November 13, 2018</td>\n",
       "      <td>153</td>\n",
       "      <td>8.5</td>\n",
       "      <td>English</td>\n",
       "      <td>Normal</td>\n",
       "      <td>2018-12-16</td>\n",
       "      <td>2018</td>\n",
       "      <td>12</td>\n",
       "    </tr>\n",
       "    <tr>\n",
       "      <th>Concert Film</th>\n",
       "      <td>Taylor Swift: Reputation Stadium Tour</td>\n",
       "      <td>October 12, 2016</td>\n",
       "      <td>125</td>\n",
       "      <td>8.4</td>\n",
       "      <td>English</td>\n",
       "      <td>Normal</td>\n",
       "      <td>2020-12-21</td>\n",
       "      <td>2020</td>\n",
       "      <td>12</td>\n",
       "    </tr>\n",
       "    <tr>\n",
       "      <th>Animation/Christmas/Comedy/Adventure</th>\n",
       "      <td>Klaus</td>\n",
       "      <td>November 15, 2019</td>\n",
       "      <td>97</td>\n",
       "      <td>8.2</td>\n",
       "      <td>English</td>\n",
       "      <td>Normal</td>\n",
       "      <td>2019-11-15</td>\n",
       "      <td>2019</td>\n",
       "      <td>11</td>\n",
       "    </tr>\n",
       "    <tr>\n",
       "      <th>Drama</th>\n",
       "      <td>XOXO</td>\n",
       "      <td>September 30, 2020</td>\n",
       "      <td>151</td>\n",
       "      <td>7.9</td>\n",
       "      <td>English</td>\n",
       "      <td>Normal</td>\n",
       "      <td>2021-05-27</td>\n",
       "      <td>2021</td>\n",
       "      <td>12</td>\n",
       "    </tr>\n",
       "    <tr>\n",
       "      <th>...</th>\n",
       "      <td>...</td>\n",
       "      <td>...</td>\n",
       "      <td>...</td>\n",
       "      <td>...</td>\n",
       "      <td>...</td>\n",
       "      <td>...</td>\n",
       "      <td>...</td>\n",
       "      <td>...</td>\n",
       "      <td>...</td>\n",
       "    </tr>\n",
       "    <tr>\n",
       "      <th>Anime / Short</th>\n",
       "      <td>Sol Levante</td>\n",
       "      <td>April 2, 2020</td>\n",
       "      <td>4</td>\n",
       "      <td>4.7</td>\n",
       "      <td>English</td>\n",
       "      <td>Cok Kisa</td>\n",
       "      <td>2020-04-02</td>\n",
       "      <td>2020</td>\n",
       "      <td>4</td>\n",
       "    </tr>\n",
       "    <tr>\n",
       "      <th>Superhero-Comedy</th>\n",
       "      <td>Thunder Force</td>\n",
       "      <td>April 9, 2021</td>\n",
       "      <td>105</td>\n",
       "      <td>4.4</td>\n",
       "      <td>English</td>\n",
       "      <td>Normal</td>\n",
       "      <td>2021-04-09</td>\n",
       "      <td>2021</td>\n",
       "      <td>4</td>\n",
       "    </tr>\n",
       "    <tr>\n",
       "      <th>Political thriller</th>\n",
       "      <td>The Last Thing He Wanted</td>\n",
       "      <td>February 21, 2020</td>\n",
       "      <td>115</td>\n",
       "      <td>4.3</td>\n",
       "      <td>English</td>\n",
       "      <td>Normal</td>\n",
       "      <td>2020-02-21</td>\n",
       "      <td>2020</td>\n",
       "      <td>2</td>\n",
       "    </tr>\n",
       "    <tr>\n",
       "      <th>Musical/Western/Fantasy</th>\n",
       "      <td>Paradox</td>\n",
       "      <td>March 23, 2018</td>\n",
       "      <td>73</td>\n",
       "      <td>3.9</td>\n",
       "      <td>English</td>\n",
       "      <td>Cok Kisa</td>\n",
       "      <td>2018-03-23</td>\n",
       "      <td>2018</td>\n",
       "      <td>3</td>\n",
       "    </tr>\n",
       "    <tr>\n",
       "      <th>Heist film/Thriller</th>\n",
       "      <td>The Last Days of American Crime</td>\n",
       "      <td>June 5, 2020</td>\n",
       "      <td>149</td>\n",
       "      <td>3.7</td>\n",
       "      <td>English</td>\n",
       "      <td>Cok Uzun</td>\n",
       "      <td>2020-06-05</td>\n",
       "      <td>2020</td>\n",
       "      <td>6</td>\n",
       "    </tr>\n",
       "  </tbody>\n",
       "</table>\n",
       "<p>101 rows × 9 columns</p>\n",
       "</div>"
      ],
      "text/plain": [
       "                                                                      Title  \\\n",
       "Genre                                                                         \n",
       "Documentary                                                           Zion    \n",
       "One-man show                                        Springsteen on Broadway   \n",
       "Concert Film                          Taylor Swift: Reputation Stadium Tour   \n",
       "Animation/Christmas/Comedy/Adventure                                  Klaus   \n",
       "Drama                                                                  XOXO   \n",
       "...                                                                     ...   \n",
       "Anime / Short                                                   Sol Levante   \n",
       "Superhero-Comedy                                              Thunder Force   \n",
       "Political thriller                                 The Last Thing He Wanted   \n",
       "Musical/Western/Fantasy                                             Paradox   \n",
       "Heist film/Thriller                         The Last Days of American Crime   \n",
       "\n",
       "                                                Premiere  Runtime  IMDB Score  \\\n",
       "Genre                                                                           \n",
       "Documentary                            September 9, 2020      144         9.0   \n",
       "One-man show                           November 13, 2018      153         8.5   \n",
       "Concert Film                            October 12, 2016      125         8.4   \n",
       "Animation/Christmas/Comedy/Adventure   November 15, 2019       97         8.2   \n",
       "Drama                                 September 30, 2020      151         7.9   \n",
       "...                                                  ...      ...         ...   \n",
       "Anime / Short                              April 2, 2020        4         4.7   \n",
       "Superhero-Comedy                           April 9, 2021      105         4.4   \n",
       "Political thriller                     February 21, 2020      115         4.3   \n",
       "Musical/Western/Fantasy                   March 23, 2018       73         3.9   \n",
       "Heist film/Thriller                         June 5, 2020      149         3.7   \n",
       "\n",
       "                                     Language uzunlukKategori       Date  \\\n",
       "Genre                                                                      \n",
       "Documentary                           English          Normal 2021-05-26   \n",
       "One-man show                          English          Normal 2018-12-16   \n",
       "Concert Film                          English          Normal 2020-12-21   \n",
       "Animation/Christmas/Comedy/Adventure  English          Normal 2019-11-15   \n",
       "Drama                                 English          Normal 2021-05-27   \n",
       "...                                       ...             ...        ...   \n",
       "Anime / Short                         English        Cok Kisa 2020-04-02   \n",
       "Superhero-Comedy                      English          Normal 2021-04-09   \n",
       "Political thriller                    English          Normal 2020-02-21   \n",
       "Musical/Western/Fantasy               English        Cok Kisa 2018-03-23   \n",
       "Heist film/Thriller                   English        Cok Uzun 2020-06-05   \n",
       "\n",
       "                                       Yıl  Month  \n",
       "Genre                                              \n",
       "Documentary                           2021     12  \n",
       "One-man show                          2018     12  \n",
       "Concert Film                          2020     12  \n",
       "Animation/Christmas/Comedy/Adventure  2019     11  \n",
       "Drama                                 2021     12  \n",
       "...                                    ...    ...  \n",
       "Anime / Short                         2020      4  \n",
       "Superhero-Comedy                      2021      4  \n",
       "Political thriller                    2020      2  \n",
       "Musical/Western/Fantasy               2018      3  \n",
       "Heist film/Thriller                   2020      6  \n",
       "\n",
       "[101 rows x 9 columns]"
      ]
     },
     "execution_count": 23,
     "metadata": {},
     "output_type": "execute_result"
    }
   ],
   "source": [
    "# 3. İngilizce çekilen filmler içerisinde hangi tür en yüksek IMDB puanına sahiptir?\n",
    "ing_film=df[df[\"Language\"]== \"English\"].groupby(\"Genre\")\n",
    "ing_film_sırala= ing_film.max().sort_values(by=\"IMDB Score\",ascending=False)\n",
    "ing_film_sırala"
   ]
  },
  {
   "cell_type": "code",
   "execution_count": 24,
   "id": "6af74b44",
   "metadata": {
    "execution": {
     "iopub.execute_input": "2022-07-27T08:57:53.595256Z",
     "iopub.status.busy": "2022-07-27T08:57:53.594801Z",
     "iopub.status.idle": "2022-07-27T08:57:53.611370Z",
     "shell.execute_reply": "2022-07-27T08:57:53.609277Z"
    },
    "papermill": {
     "duration": 0.036224,
     "end_time": "2022-07-27T08:57:53.615102",
     "exception": false,
     "start_time": "2022-07-27T08:57:53.578878",
     "status": "completed"
    },
    "tags": []
   },
   "outputs": [
    {
     "name": "stderr",
     "output_type": "stream",
     "text": [
      "/opt/conda/lib/python3.7/site-packages/ipykernel_launcher.py:4: FutureWarning: DataFrame.mean and DataFrame.median with numeric_only=None will include datetime64 and datetime64tz columns in a future version.\n",
      "  after removing the cwd from sys.path.\n",
      "/opt/conda/lib/python3.7/site-packages/ipykernel_launcher.py:4: FutureWarning: Dropping of nuisance columns in DataFrame reductions (with 'numeric_only=None') is deprecated; in a future version this will raise TypeError.  Select only valid columns before calling the reduction.\n",
      "  after removing the cwd from sys.path.\n"
     ]
    },
    {
     "data": {
      "text/plain": [
       "Runtime        115.787879\n",
       "IMDB Score       5.981818\n",
       "Yıl           2019.727273\n",
       "Month            6.303030\n",
       "dtype: float64"
      ]
     },
     "execution_count": 24,
     "metadata": {},
     "output_type": "execute_result"
    }
   ],
   "source": [
    "# 4. 'Hindi' Dilinde çekilmiş olan filmlerin ortalama 'runtime' suresi nedir?\n",
    "\n",
    "h_o= df[df[\"Language\"]== \"Hindi\"]\n",
    "h_o.mean()"
   ]
  },
  {
   "cell_type": "code",
   "execution_count": 25,
   "id": "3a3f80d5",
   "metadata": {
    "execution": {
     "iopub.execute_input": "2022-07-27T08:57:53.647651Z",
     "iopub.status.busy": "2022-07-27T08:57:53.646384Z",
     "iopub.status.idle": "2022-07-27T08:57:53.651560Z",
     "shell.execute_reply": "2022-07-27T08:57:53.650434Z"
    },
    "papermill": {
     "duration": 0.023435,
     "end_time": "2022-07-27T08:57:53.653684",
     "exception": false,
     "start_time": "2022-07-27T08:57:53.630249",
     "status": "completed"
    },
    "tags": []
   },
   "outputs": [],
   "source": [
    "# 5. 'Genre' Sütunu kaç kategoriye sahiptir ve bu kategoriler nelerdir? Görselleştirerek ifade ediniz."
   ]
  },
  {
   "cell_type": "code",
   "execution_count": 26,
   "id": "c88f15af",
   "metadata": {
    "execution": {
     "iopub.execute_input": "2022-07-27T08:57:53.685865Z",
     "iopub.status.busy": "2022-07-27T08:57:53.685155Z",
     "iopub.status.idle": "2022-07-27T08:57:55.688198Z",
     "shell.execute_reply": "2022-07-27T08:57:55.687054Z"
    },
    "papermill": {
     "duration": 2.022869,
     "end_time": "2022-07-27T08:57:55.691205",
     "exception": false,
     "start_time": "2022-07-27T08:57:53.668336",
     "status": "completed"
    },
    "tags": []
   },
   "outputs": [
    {
     "name": "stderr",
     "output_type": "stream",
     "text": [
      "/opt/conda/lib/python3.7/site-packages/seaborn/_decorators.py:43: FutureWarning: Pass the following variables as keyword args: x, y. From version 0.12, the only valid positional argument will be `data`, and passing other arguments without an explicit keyword will result in an error or misinterpretation.\n",
      "  FutureWarning\n"
     ]
    },
    {
     "data": {
      "text/plain": [
       "Text(0.5, 1.0, 'Film Türleri')"
      ]
     },
     "execution_count": 26,
     "metadata": {},
     "output_type": "execute_result"
    },
    {
     "data": {
      "image/png": "[encoded data removed]",
      "text/plain": [
       "<Figure size 720x1440 with 1 Axes>"
      ]
     },
     "metadata": {
      "needs_background": "light"
     },
     "output_type": "display_data"
    }
   ],
   "source": [
    "df_genre= df.value_counts(\"Genre\")\n",
    "df_genre\n",
    "plt.figure(figsize=(10,20))\n",
    "sns.barplot(df_genre, df_genre.index)\n",
    "plt.title('Film Türleri')"
   ]
  },
  {
   "cell_type": "code",
   "execution_count": 27,
   "id": "1ce2ea48",
   "metadata": {
    "execution": {
     "iopub.execute_input": "2022-07-27T08:57:55.729417Z",
     "iopub.status.busy": "2022-07-27T08:57:55.728751Z",
     "iopub.status.idle": "2022-07-27T08:57:55.738079Z",
     "shell.execute_reply": "2022-07-27T08:57:55.737042Z"
    },
    "papermill": {
     "duration": 0.031013,
     "end_time": "2022-07-27T08:57:55.740431",
     "exception": false,
     "start_time": "2022-07-27T08:57:55.709418",
     "status": "completed"
    },
    "tags": []
   },
   "outputs": [
    {
     "data": {
      "text/plain": [
       "English    401\n",
       "Hindi       33\n",
       "Spanish     31\n",
       "French      20\n",
       "Italian     14\n",
       "Name: Language, dtype: int64"
      ]
     },
     "execution_count": 27,
     "metadata": {},
     "output_type": "execute_result"
    }
   ],
   "source": [
    "#6. Veri setinde bulunan filmlerde en çok kullanılan 3 dili bulunuz.\n",
    "df[\"Language\"].value_counts().head()"
   ]
  },
  {
   "cell_type": "code",
   "execution_count": 28,
   "id": "fcb41ff3",
   "metadata": {
    "execution": {
     "iopub.execute_input": "2022-07-27T08:57:55.777910Z",
     "iopub.status.busy": "2022-07-27T08:57:55.777437Z",
     "iopub.status.idle": "2022-07-27T08:57:55.797189Z",
     "shell.execute_reply": "2022-07-27T08:57:55.796001Z"
    },
    "papermill": {
     "duration": 0.041466,
     "end_time": "2022-07-27T08:57:55.799685",
     "exception": false,
     "start_time": "2022-07-27T08:57:55.758219",
     "status": "completed"
    },
    "tags": []
   },
   "outputs": [
    {
     "data": {
      "text/html": [
       "<div>\n",
       "<style scoped>\n",
       "    .dataframe tbody tr th:only-of-type {\n",
       "        vertical-align: middle;\n",
       "    }\n",
       "\n",
       "    .dataframe tbody tr th {\n",
       "        vertical-align: top;\n",
       "    }\n",
       "\n",
       "    .dataframe thead th {\n",
       "        text-align: right;\n",
       "    }\n",
       "</style>\n",
       "<table border=\"1\" class=\"dataframe\">\n",
       "  <thead>\n",
       "    <tr style=\"text-align: right;\">\n",
       "      <th></th>\n",
       "      <th>Title</th>\n",
       "      <th>Genre</th>\n",
       "      <th>Premiere</th>\n",
       "      <th>Runtime</th>\n",
       "      <th>IMDB Score</th>\n",
       "      <th>Language</th>\n",
       "      <th>uzunlukKategori</th>\n",
       "      <th>Date</th>\n",
       "      <th>Yıl</th>\n",
       "      <th>Month</th>\n",
       "    </tr>\n",
       "  </thead>\n",
       "  <tbody>\n",
       "    <tr>\n",
       "      <th>583</th>\n",
       "      <td>David Attenborough: A Life on Our Planet</td>\n",
       "      <td>Documentary</td>\n",
       "      <td>October 4, 2020</td>\n",
       "      <td>83</td>\n",
       "      <td>9.0</td>\n",
       "      <td>English</td>\n",
       "      <td>Normal</td>\n",
       "      <td>2020-10-04</td>\n",
       "      <td>2020</td>\n",
       "      <td>10</td>\n",
       "    </tr>\n",
       "    <tr>\n",
       "      <th>582</th>\n",
       "      <td>Emicida: AmarElo - It's All For Yesterday</td>\n",
       "      <td>Documentary</td>\n",
       "      <td>December 8, 2020</td>\n",
       "      <td>89</td>\n",
       "      <td>8.6</td>\n",
       "      <td>Portuguese</td>\n",
       "      <td>Normal</td>\n",
       "      <td>2020-12-08</td>\n",
       "      <td>2020</td>\n",
       "      <td>12</td>\n",
       "    </tr>\n",
       "    <tr>\n",
       "      <th>581</th>\n",
       "      <td>Springsteen on Broadway</td>\n",
       "      <td>One-man show</td>\n",
       "      <td>December 16, 2018</td>\n",
       "      <td>153</td>\n",
       "      <td>8.5</td>\n",
       "      <td>English</td>\n",
       "      <td>Cok Uzun</td>\n",
       "      <td>2018-12-16</td>\n",
       "      <td>2018</td>\n",
       "      <td>12</td>\n",
       "    </tr>\n",
       "    <tr>\n",
       "      <th>580</th>\n",
       "      <td>Winter on Fire: Ukraine's Fight for Freedom</td>\n",
       "      <td>Documentary</td>\n",
       "      <td>October 9, 2015</td>\n",
       "      <td>91</td>\n",
       "      <td>8.4</td>\n",
       "      <td>English/Ukranian/Russian</td>\n",
       "      <td>Normal</td>\n",
       "      <td>2015-10-09</td>\n",
       "      <td>2015</td>\n",
       "      <td>10</td>\n",
       "    </tr>\n",
       "    <tr>\n",
       "      <th>579</th>\n",
       "      <td>Taylor Swift: Reputation Stadium Tour</td>\n",
       "      <td>Concert Film</td>\n",
       "      <td>December 31, 2018</td>\n",
       "      <td>125</td>\n",
       "      <td>8.4</td>\n",
       "      <td>English</td>\n",
       "      <td>Cok Uzun</td>\n",
       "      <td>2018-12-31</td>\n",
       "      <td>2018</td>\n",
       "      <td>12</td>\n",
       "    </tr>\n",
       "    <tr>\n",
       "      <th>578</th>\n",
       "      <td>Ben Platt: Live from Radio City Music Hall</td>\n",
       "      <td>Concert Film</td>\n",
       "      <td>May 20, 2020</td>\n",
       "      <td>85</td>\n",
       "      <td>8.4</td>\n",
       "      <td>English</td>\n",
       "      <td>Normal</td>\n",
       "      <td>2020-05-20</td>\n",
       "      <td>2020</td>\n",
       "      <td>5</td>\n",
       "    </tr>\n",
       "    <tr>\n",
       "      <th>577</th>\n",
       "      <td>Dancing with the Birds</td>\n",
       "      <td>Documentary</td>\n",
       "      <td>October 23, 2019</td>\n",
       "      <td>51</td>\n",
       "      <td>8.3</td>\n",
       "      <td>English</td>\n",
       "      <td>Cok Kisa</td>\n",
       "      <td>2019-10-23</td>\n",
       "      <td>2019</td>\n",
       "      <td>10</td>\n",
       "    </tr>\n",
       "    <tr>\n",
       "      <th>576</th>\n",
       "      <td>Cuba and the Cameraman</td>\n",
       "      <td>Documentary</td>\n",
       "      <td>November 24, 2017</td>\n",
       "      <td>114</td>\n",
       "      <td>8.3</td>\n",
       "      <td>English</td>\n",
       "      <td>Normal</td>\n",
       "      <td>2017-11-24</td>\n",
       "      <td>2017</td>\n",
       "      <td>11</td>\n",
       "    </tr>\n",
       "    <tr>\n",
       "      <th>573</th>\n",
       "      <td>Klaus</td>\n",
       "      <td>Animation/Christmas/Comedy/Adventure</td>\n",
       "      <td>November 15, 2019</td>\n",
       "      <td>97</td>\n",
       "      <td>8.2</td>\n",
       "      <td>English</td>\n",
       "      <td>Normal</td>\n",
       "      <td>2019-11-15</td>\n",
       "      <td>2019</td>\n",
       "      <td>11</td>\n",
       "    </tr>\n",
       "    <tr>\n",
       "      <th>571</th>\n",
       "      <td>13th</td>\n",
       "      <td>Documentary</td>\n",
       "      <td>October 7, 2016</td>\n",
       "      <td>100</td>\n",
       "      <td>8.2</td>\n",
       "      <td>English</td>\n",
       "      <td>Normal</td>\n",
       "      <td>2016-10-07</td>\n",
       "      <td>2016</td>\n",
       "      <td>10</td>\n",
       "    </tr>\n",
       "  </tbody>\n",
       "</table>\n",
       "</div>"
      ],
      "text/plain": [
       "                                           Title  \\\n",
       "583     David Attenborough: A Life on Our Planet   \n",
       "582    Emicida: AmarElo - It's All For Yesterday   \n",
       "581                      Springsteen on Broadway   \n",
       "580  Winter on Fire: Ukraine's Fight for Freedom   \n",
       "579        Taylor Swift: Reputation Stadium Tour   \n",
       "578   Ben Platt: Live from Radio City Music Hall   \n",
       "577                       Dancing with the Birds   \n",
       "576                      Cuba and the Cameraman    \n",
       "573                                        Klaus   \n",
       "571                                         13th   \n",
       "\n",
       "                                    Genre           Premiere  Runtime  \\\n",
       "583                           Documentary    October 4, 2020       83   \n",
       "582                           Documentary   December 8, 2020       89   \n",
       "581                          One-man show  December 16, 2018      153   \n",
       "580                           Documentary    October 9, 2015       91   \n",
       "579                          Concert Film  December 31, 2018      125   \n",
       "578                          Concert Film       May 20, 2020       85   \n",
       "577                           Documentary   October 23, 2019       51   \n",
       "576                           Documentary  November 24, 2017      114   \n",
       "573  Animation/Christmas/Comedy/Adventure  November 15, 2019       97   \n",
       "571                           Documentary    October 7, 2016      100   \n",
       "\n",
       "     IMDB Score                  Language uzunlukKategori       Date   Yıl  \\\n",
       "583         9.0                   English          Normal 2020-10-04  2020   \n",
       "582         8.6                Portuguese          Normal 2020-12-08  2020   \n",
       "581         8.5                   English        Cok Uzun 2018-12-16  2018   \n",
       "580         8.4  English/Ukranian/Russian          Normal 2015-10-09  2015   \n",
       "579         8.4                   English        Cok Uzun 2018-12-31  2018   \n",
       "578         8.4                   English          Normal 2020-05-20  2020   \n",
       "577         8.3                   English        Cok Kisa 2019-10-23  2019   \n",
       "576         8.3                   English          Normal 2017-11-24  2017   \n",
       "573         8.2                   English          Normal 2019-11-15  2019   \n",
       "571         8.2                   English          Normal 2016-10-07  2016   \n",
       "\n",
       "     Month  \n",
       "583     10  \n",
       "582     12  \n",
       "581     12  \n",
       "580     10  \n",
       "579     12  \n",
       "578      5  \n",
       "577     10  \n",
       "576     11  \n",
       "573     11  \n",
       "571     10  "
      ]
     },
     "execution_count": 28,
     "metadata": {},
     "output_type": "execute_result"
    }
   ],
   "source": [
    "#7. IMDB puanı en yüksek olan ilk 10 film hangileridir?\n",
    "df.sort_values(\"IMDB Score\", ascending=False).head(10)"
   ]
  },
  {
   "cell_type": "code",
   "execution_count": 29,
   "id": "be52400f",
   "metadata": {
    "execution": {
     "iopub.execute_input": "2022-07-27T08:57:55.838047Z",
     "iopub.status.busy": "2022-07-27T08:57:55.837612Z",
     "iopub.status.idle": "2022-07-27T08:58:00.132915Z",
     "shell.execute_reply": "2022-07-27T08:58:00.131243Z"
    },
    "papermill": {
     "duration": 4.317845,
     "end_time": "2022-07-27T08:58:00.135812",
     "exception": false,
     "start_time": "2022-07-27T08:57:55.817967",
     "status": "completed"
    },
    "tags": []
   },
   "outputs": [
    {
     "data": {
      "image/png": "[encoded data removed]",
      "text/plain": [
       "<Figure size 432x288 with 2 Axes>"
      ]
     },
     "metadata": {
      "needs_background": "light"
     },
     "output_type": "display_data"
    }
   ],
   "source": [
    "#8. IMDB puanı ile 'Runtime' arasında nasıl bir korelasyon vardır? İnceleyip görselleştiriniz.\n",
    "df_korelasyon = df[[\"IMDB Score\", \"Runtime\"]]\n",
    "corr= df_korelasyon.corr()\n",
    "ax = sns.heatmap(df_korelasyon, annot=True)"
   ]
  },
  {
   "cell_type": "code",
   "execution_count": 30,
   "id": "11d2ddb0",
   "metadata": {
    "execution": {
     "iopub.execute_input": "2022-07-27T08:58:00.177194Z",
     "iopub.status.busy": "2022-07-27T08:58:00.175925Z",
     "iopub.status.idle": "2022-07-27T08:58:00.185934Z",
     "shell.execute_reply": "2022-07-27T08:58:00.185040Z"
    },
    "papermill": {
     "duration": 0.032747,
     "end_time": "2022-07-27T08:58:00.188138",
     "exception": false,
     "start_time": "2022-07-27T08:58:00.155391",
     "status": "completed"
    },
    "tags": []
   },
   "outputs": [
    {
     "data": {
      "text/plain": [
       "2020    183\n",
       "2019    125\n",
       "2018     99\n",
       "2021     71\n",
       "2017     66\n",
       "2016     30\n",
       "2015      9\n",
       "2014      1\n",
       "Name: Yıl, dtype: int64"
      ]
     },
     "execution_count": 30,
     "metadata": {},
     "output_type": "execute_result"
    }
   ],
   "source": [
    "#11. Hangi yılda en fazla film yayımlanmıştır? Görselleştiriniz.\n",
    "df.head()\n",
    "yıl_count= df[\"Yıl\"].value_counts()\n",
    "yıl_count"
   ]
  },
  {
   "cell_type": "code",
   "execution_count": 31,
   "id": "658a5645",
   "metadata": {
    "execution": {
     "iopub.execute_input": "2022-07-27T08:58:00.228965Z",
     "iopub.status.busy": "2022-07-27T08:58:00.227721Z",
     "iopub.status.idle": "2022-07-27T08:58:00.486319Z",
     "shell.execute_reply": "2022-07-27T08:58:00.484865Z"
    },
    "papermill": {
     "duration": 0.28234,
     "end_time": "2022-07-27T08:58:00.489514",
     "exception": false,
     "start_time": "2022-07-27T08:58:00.207174",
     "status": "completed"
    },
    "tags": []
   },
   "outputs": [
    {
     "data": {
      "text/plain": [
       "Text(0.5, 1.0, 'Yıllara Göre Film Sayıları')"
      ]
     },
     "execution_count": 31,
     "metadata": {},
     "output_type": "execute_result"
    },
    {
     "data": {
      "image/png": "[encoded data removed]",
      "text/plain": [
       "<Figure size 504x360 with 1 Axes>"
      ]
     },
     "metadata": {
      "needs_background": "light"
     },
     "output_type": "display_data"
    }
   ],
   "source": [
    "plt.figure(figsize=(7, 5))\n",
    "sns.histplot(x='Yıl', data=df, bins=15, color='blue')\n",
    "plt.title(\"Yıllara Göre Film Sayıları\")"
   ]
  },
  {
   "cell_type": "code",
   "execution_count": 32,
   "id": "3ce9453a",
   "metadata": {
    "execution": {
     "iopub.execute_input": "2022-07-27T08:58:00.533304Z",
     "iopub.status.busy": "2022-07-27T08:58:00.532523Z",
     "iopub.status.idle": "2022-07-27T08:58:00.546647Z",
     "shell.execute_reply": "2022-07-27T08:58:00.545405Z"
    },
    "papermill": {
     "duration": 0.039743,
     "end_time": "2022-07-27T08:58:00.549579",
     "exception": false,
     "start_time": "2022-07-27T08:58:00.509836",
     "status": "completed"
    },
    "tags": []
   },
   "outputs": [
    {
     "data": {
      "text/plain": [
       "Language\n",
       "Malay                         4.200000\n",
       "English/Japanese              4.400000\n",
       "Norwegian                     5.100000\n",
       "Filipino                      5.100000\n",
       "Polish                        5.166667\n",
       "Thai                          5.450000\n",
       "Swedish                       5.500000\n",
       "Italian                       5.542857\n",
       "Spanish/Basque                5.600000\n",
       "German                        5.640000\n",
       "Turkish                       5.660000\n",
       "French                        5.770000\n",
       "Dutch                         5.800000\n",
       "Indonesian                    5.844444\n",
       "Korean                        5.916667\n",
       "Hindi                         5.981818\n",
       "Marathi                       6.066667\n",
       "Portuguese                    6.216667\n",
       "English/Spanish               6.220000\n",
       "Spanish                       6.303226\n",
       "English                       6.380050\n",
       "Japanese                      6.400000\n",
       "Spanish/Catalan               6.400000\n",
       "English/Taiwanese/Mandarin    6.500000\n",
       "English/Swedish               6.500000\n",
       "Thia/English                  6.700000\n",
       "Georgian                      6.800000\n",
       "English/Mandarin              7.050000\n",
       "Bengali                       7.100000\n",
       "Tamil                         7.200000\n",
       "Khmer/English/French          7.200000\n",
       "English/Arabic                7.300000\n",
       "English/Russian               7.300000\n",
       "Spanish/English               7.300000\n",
       "English/Korean                7.300000\n",
       "English/Hindi                 7.300000\n",
       "English/Akan                  7.700000\n",
       "English/Ukranian/Russian      8.400000\n",
       "Name: IMDB Score, dtype: float64"
      ]
     },
     "execution_count": 32,
     "metadata": {},
     "output_type": "execute_result"
    }
   ],
   "source": [
    "#12. Hangi dilde yayımlanan filmler en düşük ortalama IMBD puanına sahiptir? Görselleştiriniz.\n",
    "ort_sure= df.groupby(\"Language\")[\"IMDB Score\"].mean()\n",
    "ort_sure.sort_values()\n",
    "\n"
   ]
  },
  {
   "cell_type": "code",
   "execution_count": 33,
   "id": "1db554aa",
   "metadata": {
    "execution": {
     "iopub.execute_input": "2022-07-27T08:58:00.592248Z",
     "iopub.status.busy": "2022-07-27T08:58:00.591744Z",
     "iopub.status.idle": "2022-07-27T08:58:00.603340Z",
     "shell.execute_reply": "2022-07-27T08:58:00.602072Z"
    },
    "papermill": {
     "duration": 0.036413,
     "end_time": "2022-07-27T08:58:00.606177",
     "exception": false,
     "start_time": "2022-07-27T08:58:00.569764",
     "status": "completed"
    },
    "tags": []
   },
   "outputs": [
    {
     "data": {
      "text/plain": [
       "Yıl\n",
       "2020    17384\n",
       "2019    10856\n",
       "2018     9405\n",
       "2021     7214\n",
       "2017     6129\n",
       "2016     2766\n",
       "2015      814\n",
       "2014       81\n",
       "Name: Runtime, dtype: int64"
      ]
     },
     "execution_count": 33,
     "metadata": {},
     "output_type": "execute_result"
    }
   ],
   "source": [
    "#13. Hangi yılın toplam \"runtime\" süresi en fazladır?\n",
    "toplam_runtime= df.groupby(\"Yıl\")[\"Runtime\"].sum().sort_values(ascending=False)\n",
    "toplam_runtime"
   ]
  },
  {
   "cell_type": "code",
   "execution_count": 34,
   "id": "c30000d1",
   "metadata": {
    "execution": {
     "iopub.execute_input": "2022-07-27T08:58:00.648282Z",
     "iopub.status.busy": "2022-07-27T08:58:00.647801Z",
     "iopub.status.idle": "2022-07-27T08:58:00.663573Z",
     "shell.execute_reply": "2022-07-27T08:58:00.662424Z"
    },
    "papermill": {
     "duration": 0.040096,
     "end_time": "2022-07-27T08:58:00.666074",
     "exception": false,
     "start_time": "2022-07-27T08:58:00.625978",
     "status": "completed"
    },
    "tags": []
   },
   "outputs": [
    {
     "data": {
      "text/plain": [
       "Language\n",
       "Bengali                                        Documentary\n",
       "Dutch                                      Romantic comedy\n",
       "English                                       Zombie/Heist\n",
       "English/Akan                                     War drama\n",
       "English/Arabic                                 Documentary\n",
       "English/Hindi                                  Documentary\n",
       "English/Japanese                               Documentary\n",
       "English/Korean                            Action-adventure\n",
       "English/Mandarin                               Documentary\n",
       "English/Russian                                Documentary\n",
       "English/Spanish                                Documentary\n",
       "English/Swedish                                Documentary\n",
       "English/Taiwanese/Mandarin                           Drama\n",
       "English/Ukranian/Russian                       Documentary\n",
       "Filipino                                          Thriller\n",
       "French                                            Thriller\n",
       "Georgian                                       Documentary\n",
       "German                                            Thriller\n",
       "Hindi                                             Thriller\n",
       "Indonesian                                  Romantic drama\n",
       "Italian                                        Sports film\n",
       "Japanese                      Psychological thriller drama\n",
       "Khmer/English/French                                 Drama\n",
       "Korean                                            Thriller\n",
       "Malay                                        Action comedy\n",
       "Marathi                                              Drama\n",
       "Norwegian                                           Horror\n",
       "Polish                                            Thriller\n",
       "Portuguese                                         Western\n",
       "Spanish                                           Thriller\n",
       "Spanish/Basque                                Black comedy\n",
       "Spanish/Catalan                                Documentary\n",
       "Spanish/English                                Documentary\n",
       "Swedish                                           Thriller\n",
       "Tamil                                                Drama\n",
       "Thai                                                Horror\n",
       "Thia/English                                   Documentary\n",
       "Turkish                                            Romance\n",
       "Name: Genre, dtype: object"
      ]
     },
     "execution_count": 34,
     "metadata": {},
     "output_type": "execute_result"
    }
   ],
   "source": [
    "#14. Her bir dilin en fazla kullanıldığı \"Genre\" nedir?\n",
    "max_genre= df.groupby(\"Language\")[\"Genre\"].max()\n",
    "max_genre"
   ]
  },
  {
   "cell_type": "code",
   "execution_count": 35,
   "id": "41625d22",
   "metadata": {
    "execution": {
     "iopub.execute_input": "2022-07-27T08:58:00.709308Z",
     "iopub.status.busy": "2022-07-27T08:58:00.707751Z",
     "iopub.status.idle": "2022-07-27T08:58:01.571858Z",
     "shell.execute_reply": "2022-07-27T08:58:01.569891Z"
    },
    "papermill": {
     "duration": 0.889206,
     "end_time": "2022-07-27T08:58:01.575066",
     "exception": false,
     "start_time": "2022-07-27T08:58:00.685860",
     "status": "completed"
    },
    "tags": []
   },
   "outputs": [
    {
     "data": {
      "image/png": "[encoded data removed]",
      "text/plain": [
       "<Figure size 432x288 with 1 Axes>"
      ]
     },
     "metadata": {},
     "output_type": "display_data"
    },
    {
     "data": {
      "image/png": "[encoded data removed]",
      "text/plain": [
       "<Figure size 432x288 with 1 Axes>"
      ]
     },
     "metadata": {},
     "output_type": "display_data"
    },
    {
     "data": {
      "image/png": "[encoded data removed]",
      "text/plain": [
       "<Figure size 432x288 with 1 Axes>"
      ]
     },
     "metadata": {},
     "output_type": "display_data"
    },
    {
     "data": {
      "image/png": "[encoded data removed]",
      "text/plain": [
       "<Figure size 432x288 with 1 Axes>"
      ]
     },
     "metadata": {},
     "output_type": "display_data"
    }
   ],
   "source": [
    "#15. Veri setinde outlier veri var mıdır? Açıklayınız.\n",
    "\n",
    "def show_outliers(df):\n",
    "    sns.set_theme(style=\"whitegrid\")\n",
    "    for col in df.columns:\n",
    "        if df[col].dtypes in [\"float\",\"int\",\"int64\",\"float64\"]:\n",
    "            ax = sns.boxplot(x=df[col])\n",
    "            plt.show()\n",
    "\n",
    "show_outliers(df)"
   ]
  },
  {
   "cell_type": "markdown",
   "id": "896b2231",
   "metadata": {
    "papermill": {
     "duration": 0.020659,
     "end_time": "2022-07-27T08:58:01.617042",
     "exception": false,
     "start_time": "2022-07-27T08:58:01.596383",
     "status": "completed"
    },
    "tags": []
   },
   "source": [
    "Runtime sütununda çok fazla olmasıyla birlikte IMDB skor ve Yıl sütununda da aykırı değerler mevcuttur. Ay da aykırı değer bulunmamaktadır."
   ]
  }
 ],
 "metadata": {
  "kernelspec": {
   "display_name": "Python 3",
   "language": "python",
   "name": "python3"
  },
  "language_info": {
   "codemirror_mode": {
    "name": "ipython",
    "version": 3
   },
   "file_extension": ".py",
   "mimetype": "text/x-python",
   "name": "python",
   "nbconvert_exporter": "python",
   "pygments_lexer": "ipython3",
   "version": "3.7.12"
  },
  "papermill": {
   "default_parameters": {},
   "duration": 25.201398,
   "end_time": "2022-07-27T08:58:02.763906",
   "environment_variables": {},
   "exception": null,
   "input_path": "__notebook__.ipynb",
   "output_path": "__notebook__.ipynb",
   "parameters": {},
   "start_time": "2022-07-27T08:57:37.562508",
   "version": "2.3.4"
  }
 },
 "nbformat": 4,
 "nbformat_minor": 5
}
